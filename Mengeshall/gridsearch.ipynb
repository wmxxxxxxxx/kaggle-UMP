{
 "cells": [
  {
   "cell_type": "code",
   "execution_count": 1,
   "metadata": {},
   "outputs": [
    {
     "data": {
      "text/html": [
       "<style type='text/css'>\n",
       ".datatable table.frame { margin-bottom: 0; }\n",
       ".datatable table.frame thead { border-bottom: none; }\n",
       ".datatable table.frame tr.coltypes td {  color: #FFFFFF;  line-height: 6px;  padding: 0 0.5em;}\n",
       ".datatable .bool    { background: #DDDD99; }\n",
       ".datatable .object  { background: #565656; }\n",
       ".datatable .int     { background: #5D9E5D; }\n",
       ".datatable .float   { background: #4040CC; }\n",
       ".datatable .str     { background: #CC4040; }\n",
       ".datatable .time    { background: #40CC40; }\n",
       ".datatable .row_index {  background: var(--jp-border-color3);  border-right: 1px solid var(--jp-border-color0);  color: var(--jp-ui-font-color3);  font-size: 9px;}\n",
       ".datatable .frame tbody td { text-align: left; }\n",
       ".datatable .frame tr.coltypes .row_index {  background: var(--jp-border-color0);}\n",
       ".datatable th:nth-child(2) { padding-left: 12px; }\n",
       ".datatable .hellipsis {  color: var(--jp-cell-editor-border-color);}\n",
       ".datatable .vellipsis {  background: var(--jp-layout-color0);  color: var(--jp-cell-editor-border-color);}\n",
       ".datatable .na {  color: var(--jp-cell-editor-border-color);  font-size: 80%;}\n",
       ".datatable .sp {  opacity: 0.25;}\n",
       ".datatable .footer { font-size: 9px; }\n",
       ".datatable .frame_dimensions {  background: var(--jp-border-color3);  border-top: 1px solid var(--jp-border-color0);  color: var(--jp-ui-font-color3);  display: inline-block;  opacity: 0.6;  padding: 1px 10px 1px 5px;}\n",
       "</style>\n"
      ],
      "text/plain": [
       "<IPython.core.display.HTML object>"
      ]
     },
     "metadata": {},
     "output_type": "display_data"
    },
    {
     "name": "stderr",
     "output_type": "stream",
     "text": [
      "C:\\ProgramData\\Anaconda3\\lib\\site-packages\\dask\\dataframe\\utils.py:366: FutureWarning: pandas.Int64Index is deprecated and will be removed from pandas in a future version. Use pandas.Index with the appropriate dtype instead.\n",
      "  _numeric_index_types = (pd.Int64Index, pd.Float64Index, pd.UInt64Index)\n",
      "C:\\ProgramData\\Anaconda3\\lib\\site-packages\\dask\\dataframe\\utils.py:366: FutureWarning: pandas.Float64Index is deprecated and will be removed from pandas in a future version. Use pandas.Index with the appropriate dtype instead.\n",
      "  _numeric_index_types = (pd.Int64Index, pd.Float64Index, pd.UInt64Index)\n",
      "C:\\ProgramData\\Anaconda3\\lib\\site-packages\\dask\\dataframe\\utils.py:366: FutureWarning: pandas.UInt64Index is deprecated and will be removed from pandas in a future version. Use pandas.Index with the appropriate dtype instead.\n",
      "  _numeric_index_types = (pd.Int64Index, pd.Float64Index, pd.UInt64Index)\n"
     ]
    }
   ],
   "source": [
    "# 导入数据分割， 模型验证，cv参数搜索，以及lightgbm包\n",
    "import pandas as pd\n",
    "from sklearn.model_selection import train_test_split\n",
    "from sklearn.metrics import accuracy_score,roc_auc_score, roc_curve, f1_score\n",
    "from sklearn.model_selection import GridSearchCV\n",
    "import lightgbm as lgbm"
   ]
  },
  {
   "cell_type": "code",
   "execution_count": 2,
   "metadata": {},
   "outputs": [
    {
     "name": "stdout",
     "output_type": "stream",
     "text": [
      "Wall time: 55.6 s\n"
     ]
    },
    {
     "data": {
      "text/html": [
       "<div>\n",
       "<style scoped>\n",
       "    .dataframe tbody tr th:only-of-type {\n",
       "        vertical-align: middle;\n",
       "    }\n",
       "\n",
       "    .dataframe tbody tr th {\n",
       "        vertical-align: top;\n",
       "    }\n",
       "\n",
       "    .dataframe thead th {\n",
       "        text-align: right;\n",
       "    }\n",
       "</style>\n",
       "<table border=\"1\" class=\"dataframe\">\n",
       "  <thead>\n",
       "    <tr style=\"text-align: right;\">\n",
       "      <th></th>\n",
       "      <th>time_id</th>\n",
       "      <th>investment_id</th>\n",
       "      <th>target</th>\n",
       "      <th>f_0</th>\n",
       "      <th>f_1</th>\n",
       "      <th>f_2</th>\n",
       "      <th>f_3</th>\n",
       "      <th>f_4</th>\n",
       "      <th>f_5</th>\n",
       "      <th>f_6</th>\n",
       "      <th>...</th>\n",
       "      <th>f_290</th>\n",
       "      <th>f_291</th>\n",
       "      <th>f_292</th>\n",
       "      <th>f_293</th>\n",
       "      <th>f_294</th>\n",
       "      <th>f_295</th>\n",
       "      <th>f_296</th>\n",
       "      <th>f_297</th>\n",
       "      <th>f_298</th>\n",
       "      <th>f_299</th>\n",
       "    </tr>\n",
       "  </thead>\n",
       "  <tbody>\n",
       "    <tr>\n",
       "      <th>count</th>\n",
       "      <td>3.141410e+06</td>\n",
       "      <td>3.141410e+06</td>\n",
       "      <td>3.141410e+06</td>\n",
       "      <td>3.141410e+06</td>\n",
       "      <td>3.141410e+06</td>\n",
       "      <td>3.141410e+06</td>\n",
       "      <td>3.141410e+06</td>\n",
       "      <td>3.141410e+06</td>\n",
       "      <td>3.141410e+06</td>\n",
       "      <td>3.141410e+06</td>\n",
       "      <td>...</td>\n",
       "      <td>3.141410e+06</td>\n",
       "      <td>3.141410e+06</td>\n",
       "      <td>3.141410e+06</td>\n",
       "      <td>3.141410e+06</td>\n",
       "      <td>3.141410e+06</td>\n",
       "      <td>3.141410e+06</td>\n",
       "      <td>3.141410e+06</td>\n",
       "      <td>3.141410e+06</td>\n",
       "      <td>3.141410e+06</td>\n",
       "      <td>3.141410e+06</td>\n",
       "    </tr>\n",
       "    <tr>\n",
       "      <th>mean</th>\n",
       "      <td>6.654862e+02</td>\n",
       "      <td>1.885265e+03</td>\n",
       "      <td>-2.109159e-02</td>\n",
       "      <td>1.637057e-03</td>\n",
       "      <td>-1.257678e-02</td>\n",
       "      <td>8.514749e-03</td>\n",
       "      <td>-2.003703e-02</td>\n",
       "      <td>-5.416438e-03</td>\n",
       "      <td>-3.034008e-03</td>\n",
       "      <td>1.934330e-03</td>\n",
       "      <td>...</td>\n",
       "      <td>1.256709e-02</td>\n",
       "      <td>9.002053e-04</td>\n",
       "      <td>-6.509154e-03</td>\n",
       "      <td>2.851608e-03</td>\n",
       "      <td>-4.730820e-03</td>\n",
       "      <td>-2.773806e-02</td>\n",
       "      <td>-1.517383e-03</td>\n",
       "      <td>-7.057928e-03</td>\n",
       "      <td>-4.216896e-03</td>\n",
       "      <td>-4.319488e-03</td>\n",
       "    </tr>\n",
       "    <tr>\n",
       "      <th>std</th>\n",
       "      <td>3.560434e+02</td>\n",
       "      <td>1.083616e+03</td>\n",
       "      <td>9.176629e-01</td>\n",
       "      <td>1.079721e+00</td>\n",
       "      <td>1.030980e+00</td>\n",
       "      <td>1.030281e+00</td>\n",
       "      <td>9.602916e-01</td>\n",
       "      <td>9.895188e-01</td>\n",
       "      <td>1.104578e+00</td>\n",
       "      <td>1.067755e+00</td>\n",
       "      <td>...</td>\n",
       "      <td>1.084496e+00</td>\n",
       "      <td>1.114387e+00</td>\n",
       "      <td>1.070176e+00</td>\n",
       "      <td>1.101158e+00</td>\n",
       "      <td>1.144516e+00</td>\n",
       "      <td>9.592550e-01</td>\n",
       "      <td>1.140459e+00</td>\n",
       "      <td>1.108097e+00</td>\n",
       "      <td>1.051252e+00</td>\n",
       "      <td>1.008220e+00</td>\n",
       "    </tr>\n",
       "    <tr>\n",
       "      <th>min</th>\n",
       "      <td>0.000000e+00</td>\n",
       "      <td>0.000000e+00</td>\n",
       "      <td>-9.419646e+00</td>\n",
       "      <td>-1.765789e+01</td>\n",
       "      <td>-6.579473e+00</td>\n",
       "      <td>-8.644268e+00</td>\n",
       "      <td>-1.800427e+01</td>\n",
       "      <td>-4.000015e+00</td>\n",
       "      <td>-8.833704e+00</td>\n",
       "      <td>-6.384251e+00</td>\n",
       "      <td>...</td>\n",
       "      <td>-9.271487e+00</td>\n",
       "      <td>-6.359966e+00</td>\n",
       "      <td>-8.183732e+00</td>\n",
       "      <td>-2.399478e+01</td>\n",
       "      <td>-1.497270e+01</td>\n",
       "      <td>-9.348986e+00</td>\n",
       "      <td>-7.366648e+00</td>\n",
       "      <td>-7.579406e+00</td>\n",
       "      <td>-6.707284e+00</td>\n",
       "      <td>-1.028264e+01</td>\n",
       "    </tr>\n",
       "    <tr>\n",
       "      <th>25%</th>\n",
       "      <td>3.530000e+02</td>\n",
       "      <td>9.520000e+02</td>\n",
       "      <td>-5.004572e-01</td>\n",
       "      <td>-4.071441e-01</td>\n",
       "      <td>-6.813878e-01</td>\n",
       "      <td>-6.530838e-01</td>\n",
       "      <td>-4.496046e-01</td>\n",
       "      <td>-3.532303e-01</td>\n",
       "      <td>-7.070855e-01</td>\n",
       "      <td>-7.911198e-01</td>\n",
       "      <td>...</td>\n",
       "      <td>-6.037326e-01</td>\n",
       "      <td>-8.355157e-01</td>\n",
       "      <td>-6.981400e-01</td>\n",
       "      <td>-1.377131e-01</td>\n",
       "      <td>-9.397985e-01</td>\n",
       "      <td>-5.147926e-01</td>\n",
       "      <td>-9.573807e-01</td>\n",
       "      <td>-7.239380e-01</td>\n",
       "      <td>-8.165390e-01</td>\n",
       "      <td>-5.080143e-01</td>\n",
       "    </tr>\n",
       "    <tr>\n",
       "      <th>50%</th>\n",
       "      <td>7.040000e+02</td>\n",
       "      <td>1.882000e+03</td>\n",
       "      <td>-9.717009e-02</td>\n",
       "      <td>2.431158e-01</td>\n",
       "      <td>-4.867587e-02</td>\n",
       "      <td>4.350941e-02</td>\n",
       "      <td>-2.639937e-01</td>\n",
       "      <td>-1.908876e-01</td>\n",
       "      <td>-2.144796e-02</td>\n",
       "      <td>1.437945e-02</td>\n",
       "      <td>...</td>\n",
       "      <td>6.086323e-02</td>\n",
       "      <td>-2.023181e-01</td>\n",
       "      <td>-1.910102e-01</td>\n",
       "      <td>2.164071e-01</td>\n",
       "      <td>2.087202e-01</td>\n",
       "      <td>-2.907780e-01</td>\n",
       "      <td>6.955573e-03</td>\n",
       "      <td>-1.650222e-01</td>\n",
       "      <td>2.300689e-02</td>\n",
       "      <td>-2.824031e-01</td>\n",
       "    </tr>\n",
       "    <tr>\n",
       "      <th>75%</th>\n",
       "      <td>9.750000e+02</td>\n",
       "      <td>2.830000e+03</td>\n",
       "      <td>3.572908e-01</td>\n",
       "      <td>6.649507e-01</td>\n",
       "      <td>6.086557e-01</td>\n",
       "      <td>6.587324e-01</td>\n",
       "      <td>7.763371e-02</td>\n",
       "      <td>2.784694e-02</td>\n",
       "      <td>6.835684e-01</td>\n",
       "      <td>8.008306e-01</td>\n",
       "      <td>...</td>\n",
       "      <td>6.882384e-01</td>\n",
       "      <td>9.035954e-01</td>\n",
       "      <td>4.841421e-01</td>\n",
       "      <td>5.088849e-01</td>\n",
       "      <td>8.616266e-01</td>\n",
       "      <td>1.275946e-01</td>\n",
       "      <td>9.503851e-01</td>\n",
       "      <td>6.098197e-01</td>\n",
       "      <td>7.984827e-01</td>\n",
       "      <td>1.411301e-01</td>\n",
       "    </tr>\n",
       "    <tr>\n",
       "      <th>max</th>\n",
       "      <td>1.219000e+03</td>\n",
       "      <td>3.773000e+03</td>\n",
       "      <td>1.203861e+01</td>\n",
       "      <td>7.845261e+00</td>\n",
       "      <td>8.707207e+00</td>\n",
       "      <td>8.009340e+00</td>\n",
       "      <td>4.706333e+01</td>\n",
       "      <td>7.662866e+01</td>\n",
       "      <td>7.646200e+00</td>\n",
       "      <td>6.778142e+00</td>\n",
       "      <td>...</td>\n",
       "      <td>9.298274e+00</td>\n",
       "      <td>9.725060e+00</td>\n",
       "      <td>2.231185e+01</td>\n",
       "      <td>6.587691e+00</td>\n",
       "      <td>6.978151e+00</td>\n",
       "      <td>6.140367e+01</td>\n",
       "      <td>7.679950e+00</td>\n",
       "      <td>1.241804e+01</td>\n",
       "      <td>7.003982e+00</td>\n",
       "      <td>4.337021e+01</td>\n",
       "    </tr>\n",
       "  </tbody>\n",
       "</table>\n",
       "<p>8 rows × 303 columns</p>\n",
       "</div>"
      ],
      "text/plain": [
       "            time_id  investment_id        target           f_0           f_1  \\\n",
       "count  3.141410e+06   3.141410e+06  3.141410e+06  3.141410e+06  3.141410e+06   \n",
       "mean   6.654862e+02   1.885265e+03 -2.109159e-02  1.637057e-03 -1.257678e-02   \n",
       "std    3.560434e+02   1.083616e+03  9.176629e-01  1.079721e+00  1.030980e+00   \n",
       "min    0.000000e+00   0.000000e+00 -9.419646e+00 -1.765789e+01 -6.579473e+00   \n",
       "25%    3.530000e+02   9.520000e+02 -5.004572e-01 -4.071441e-01 -6.813878e-01   \n",
       "50%    7.040000e+02   1.882000e+03 -9.717009e-02  2.431158e-01 -4.867587e-02   \n",
       "75%    9.750000e+02   2.830000e+03  3.572908e-01  6.649507e-01  6.086557e-01   \n",
       "max    1.219000e+03   3.773000e+03  1.203861e+01  7.845261e+00  8.707207e+00   \n",
       "\n",
       "                f_2           f_3           f_4           f_5           f_6  \\\n",
       "count  3.141410e+06  3.141410e+06  3.141410e+06  3.141410e+06  3.141410e+06   \n",
       "mean   8.514749e-03 -2.003703e-02 -5.416438e-03 -3.034008e-03  1.934330e-03   \n",
       "std    1.030281e+00  9.602916e-01  9.895188e-01  1.104578e+00  1.067755e+00   \n",
       "min   -8.644268e+00 -1.800427e+01 -4.000015e+00 -8.833704e+00 -6.384251e+00   \n",
       "25%   -6.530838e-01 -4.496046e-01 -3.532303e-01 -7.070855e-01 -7.911198e-01   \n",
       "50%    4.350941e-02 -2.639937e-01 -1.908876e-01 -2.144796e-02  1.437945e-02   \n",
       "75%    6.587324e-01  7.763371e-02  2.784694e-02  6.835684e-01  8.008306e-01   \n",
       "max    8.009340e+00  4.706333e+01  7.662866e+01  7.646200e+00  6.778142e+00   \n",
       "\n",
       "       ...         f_290         f_291         f_292         f_293  \\\n",
       "count  ...  3.141410e+06  3.141410e+06  3.141410e+06  3.141410e+06   \n",
       "mean   ...  1.256709e-02  9.002053e-04 -6.509154e-03  2.851608e-03   \n",
       "std    ...  1.084496e+00  1.114387e+00  1.070176e+00  1.101158e+00   \n",
       "min    ... -9.271487e+00 -6.359966e+00 -8.183732e+00 -2.399478e+01   \n",
       "25%    ... -6.037326e-01 -8.355157e-01 -6.981400e-01 -1.377131e-01   \n",
       "50%    ...  6.086323e-02 -2.023181e-01 -1.910102e-01  2.164071e-01   \n",
       "75%    ...  6.882384e-01  9.035954e-01  4.841421e-01  5.088849e-01   \n",
       "max    ...  9.298274e+00  9.725060e+00  2.231185e+01  6.587691e+00   \n",
       "\n",
       "              f_294         f_295         f_296         f_297         f_298  \\\n",
       "count  3.141410e+06  3.141410e+06  3.141410e+06  3.141410e+06  3.141410e+06   \n",
       "mean  -4.730820e-03 -2.773806e-02 -1.517383e-03 -7.057928e-03 -4.216896e-03   \n",
       "std    1.144516e+00  9.592550e-01  1.140459e+00  1.108097e+00  1.051252e+00   \n",
       "min   -1.497270e+01 -9.348986e+00 -7.366648e+00 -7.579406e+00 -6.707284e+00   \n",
       "25%   -9.397985e-01 -5.147926e-01 -9.573807e-01 -7.239380e-01 -8.165390e-01   \n",
       "50%    2.087202e-01 -2.907780e-01  6.955573e-03 -1.650222e-01  2.300689e-02   \n",
       "75%    8.616266e-01  1.275946e-01  9.503851e-01  6.098197e-01  7.984827e-01   \n",
       "max    6.978151e+00  6.140367e+01  7.679950e+00  1.241804e+01  7.003982e+00   \n",
       "\n",
       "              f_299  \n",
       "count  3.141410e+06  \n",
       "mean  -4.319488e-03  \n",
       "std    1.008220e+00  \n",
       "min   -1.028264e+01  \n",
       "25%   -5.080143e-01  \n",
       "50%   -2.824031e-01  \n",
       "75%    1.411301e-01  \n",
       "max    4.337021e+01  \n",
       "\n",
       "[8 rows x 303 columns]"
      ]
     },
     "execution_count": 2,
     "metadata": {},
     "output_type": "execute_result"
    }
   ],
   "source": [
    "%%time\n",
    "data = pd.read_parquet(\"C:\\\\Users\\\\Mengxiao.Wu\\\\Desktop\\\\train\\\\train_low_mem.parquet\")\n",
    "data.describe()"
   ]
  },
  {
   "cell_type": "code",
   "execution_count": 3,
   "metadata": {},
   "outputs": [],
   "source": [
    "data['investment_id'] = data['investment_id'].astype('category')\n",
    "feats = [col for col in data.columns if col not in ['time_id', 'row_id', 'target']]\n",
    "X = data[feats]\n",
    "y = data.target"
   ]
  },
  {
   "cell_type": "code",
   "execution_count": 8,
   "metadata": {},
   "outputs": [
    {
     "name": "stdout",
     "output_type": "stream",
     "text": [
      "Fitting 5 folds for each of 19 candidates, totalling 95 fits\n"
     ]
    },
    {
     "name": "stderr",
     "output_type": "stream",
     "text": [
      "[Parallel(n_jobs=8)]: Using backend LokyBackend with 8 concurrent workers.\n",
      "[Parallel(n_jobs=8)]: Done  34 tasks      | elapsed: 36.9min\n",
      "[Parallel(n_jobs=8)]: Done  95 out of  95 | elapsed: 190.5min finished\n"
     ]
    },
    {
     "name": "stdout",
     "output_type": "stream",
     "text": [
      "*********************\n",
      "{'n_estimators': 100}\n",
      "-0.9145781284100764\n",
      "Wall time: 3h 11min 51s\n"
     ]
    }
   ],
   "source": [
    "%%time\n",
    "param = {\n",
    "      'n_estimators': range(50,1000,50),\n",
    "    }\n",
    "estimator = lgbm.LGBMRegressor(boosting_type='gbdt',\n",
    "                               objective='regression',\n",
    "                               metrics='rmse',\n",
    "                               learning_rate=0.1)\n",
    "gsearch = GridSearchCV(estimator, param_grid=param, scoring='neg_root_mean_squared_error', cv=5, n_jobs=8, verbose=1)\n",
    "gsearch.fit(X, y)\n",
    "print(\"*********************\")\n",
    "print(gsearch.best_params_)\n",
    "print(gsearch.best_score_)"
   ]
  },
  {
   "cell_type": "code",
   "execution_count": 4,
   "metadata": {},
   "outputs": [
    {
     "name": "stdout",
     "output_type": "stream",
     "text": [
      "Fitting 5 folds for each of 9 candidates, totalling 45 fits\n"
     ]
    },
    {
     "name": "stderr",
     "output_type": "stream",
     "text": [
      "[Parallel(n_jobs=8)]: Using backend LokyBackend with 8 concurrent workers.\n",
      "[Parallel(n_jobs=8)]: Done  45 out of  45 | elapsed: 31.1min finished\n"
     ]
    },
    {
     "name": "stdout",
     "output_type": "stream",
     "text": [
      "*********************\n",
      "{'max_depth': 7}\n",
      "-0.8363557172633274\n",
      "Wall time: 32min 28s\n"
     ]
    }
   ],
   "source": [
    "%%time\n",
    "param = {\n",
    "     'max_depth': range(7,25,2)    \n",
    "    }\n",
    "estimator = lgbm.LGBMRegressor(boosting_type='gbdt',\n",
    "                               objective='regression',\n",
    "                               metrics='rmse',\n",
    "                               learning_rate=0.1,\n",
    "                               n_estimators=100,\n",
    "                              )\n",
    "gsearch = GridSearchCV(estimator, param_grid=param, scoring='neg_mean_squared_error', cv=5, n_jobs=8, verbose=1)\n",
    "gsearch.fit(X, y)\n",
    "print(\"*********************\")\n",
    "print(gsearch.best_params_)\n",
    "print(gsearch.best_score_)"
   ]
  },
  {
   "cell_type": "code",
   "execution_count": 5,
   "metadata": {},
   "outputs": [
    {
     "name": "stdout",
     "output_type": "stream",
     "text": [
      "Fitting 5 folds for each of 29 candidates, totalling 145 fits\n"
     ]
    },
    {
     "name": "stderr",
     "output_type": "stream",
     "text": [
      "[Parallel(n_jobs=8)]: Using backend LokyBackend with 8 concurrent workers.\n",
      "[Parallel(n_jobs=8)]: Done  34 tasks      | elapsed: 22.3min\n",
      "[Parallel(n_jobs=8)]: Done 145 out of 145 | elapsed: 106.8min finished\n"
     ]
    },
    {
     "name": "stdout",
     "output_type": "stream",
     "text": [
      "*********************\n",
      "{'num_leaves': 10}\n",
      "-0.9141089709654124\n",
      "Wall time: 1h 47min 53s\n"
     ]
    }
   ],
   "source": [
    "%%time\n",
    "param = {\n",
    "     'num_leaves': range(5, 150, 5)  \n",
    "    }\n",
    "estimator = lgbm.LGBMRegressor(boosting_type='gbdt',\n",
    "                               objective='regression',\n",
    "                               metrics='rmse',\n",
    "                               learning_rate=0.1,\n",
    "                               n_estimators=100,\n",
    "                               max_depth=12,\n",
    "                              )\n",
    "gsearch = GridSearchCV(estimator, param_grid=param, scoring='neg_root_mean_squared_error', cv=5, n_jobs=8, verbose=1)\n",
    "gsearch.fit(X, y)\n",
    "print(\"*********************\")\n",
    "print(gsearch.best_params_)\n",
    "print(gsearch.best_score_)"
   ]
  },
  {
   "cell_type": "code",
   "execution_count": 4,
   "metadata": {},
   "outputs": [
    {
     "name": "stdout",
     "output_type": "stream",
     "text": [
      "Fitting 5 folds for each of 4 candidates, totalling 20 fits\n"
     ]
    },
    {
     "name": "stderr",
     "output_type": "stream",
     "text": [
      "[Parallel(n_jobs=8)]: Using backend LokyBackend with 8 concurrent workers.\n",
      "[Parallel(n_jobs=8)]: Done  20 out of  20 | elapsed: 17.2min finished\n"
     ]
    },
    {
     "name": "stdout",
     "output_type": "stream",
     "text": [
      "[LightGBM] [Warning] feature_fraction is set=0.6, colsample_bytree=1.0 will be ignored. Current value: feature_fraction=0.6\n",
      "*********************\n",
      "{'feature_fraction': 0.6}\n",
      "-0.9135283761415727\n",
      "Wall time: 18min 21s\n"
     ]
    }
   ],
   "source": [
    "%%time\n",
    "param = {\n",
    "      'feature_fraction': [0.6, 0.7, 0.8, 1],\n",
    "    }\n",
    "\n",
    "estimator = lgbm.LGBMRegressor(boosting_type='gbdt',\n",
    "                               objective='regression',\n",
    "                               metrics='rmse',\n",
    "                               learning_rate=0.1,\n",
    "                               n_estimators=200,\n",
    "                               max_depth=5,\n",
    "                               num_leaves=5,\n",
    "                              )\n",
    "gsearch = GridSearchCV(estimator, param_grid=param, scoring='neg_root_mean_squared_error', cv=5, n_jobs=8, verbose=1)\n",
    "gsearch.fit(X, y)\n",
    "print(\"*********************\")\n",
    "print(gsearch.best_params_)\n",
    "print(gsearch.best_score_)"
   ]
  },
  {
   "cell_type": "code",
   "execution_count": 5,
   "metadata": {},
   "outputs": [
    {
     "name": "stdout",
     "output_type": "stream",
     "text": [
      "Fitting 5 folds for each of 30 candidates, totalling 150 fits\n"
     ]
    },
    {
     "name": "stderr",
     "output_type": "stream",
     "text": [
      "[Parallel(n_jobs=8)]: Using backend LokyBackend with 8 concurrent workers.\n",
      "[Parallel(n_jobs=8)]: Done  34 tasks      | elapsed: 18.3min\n",
      "[Parallel(n_jobs=8)]: Done 150 out of 150 | elapsed: 76.3min finished\n"
     ]
    },
    {
     "name": "stdout",
     "output_type": "stream",
     "text": [
      "[LightGBM] [Warning] feature_fraction is set=0.6, colsample_bytree=1.0 will be ignored. Current value: feature_fraction=0.6\n",
      "[LightGBM] [Warning] bagging_fraction is set=0.6, subsample=1.0 will be ignored. Current value: bagging_fraction=0.6\n",
      "[LightGBM] [Warning] bagging_freq is set=0, subsample_freq=0 will be ignored. Current value: bagging_freq=0\n",
      "*********************\n",
      "{'bagging_fraction': 0.6, 'bagging_freq': 0}\n",
      "-0.9135283761415727\n",
      "Wall time: 1h 17min 36s\n"
     ]
    }
   ],
   "source": [
    "%%time\n",
    "param = {\n",
    "     'bagging_fraction': [0.6, 0.7, 0.8, 0.9, 1.0],\n",
    "     'bagging_freq':    range(0, 6),\n",
    "    }\n",
    "estimator = lgbm.LGBMRegressor(boosting_type='gbdt',\n",
    "                               objective='regression',\n",
    "                               metrics='rmse',\n",
    "                               learning_rate=0.1,\n",
    "                               n_estimators=200,\n",
    "                               max_depth=5,\n",
    "                               num_leaves=5,\n",
    "                               feature_fraction=0.6,\n",
    "                              )\n",
    "gsearch = GridSearchCV(estimator, param_grid=param, scoring='neg_root_mean_squared_error', cv=5, n_jobs=8, verbose=1)\n",
    "gsearch.fit(X, y)\n",
    "print(\"*********************\")\n",
    "print(gsearch.best_params_)\n",
    "print(gsearch.best_score_)"
   ]
  },
  {
   "cell_type": "code",
   "execution_count": 5,
   "metadata": {},
   "outputs": [
    {
     "name": "stdout",
     "output_type": "stream",
     "text": [
      "Fitting 5 folds for each of 9 candidates, totalling 45 fits\n"
     ]
    },
    {
     "name": "stderr",
     "output_type": "stream",
     "text": [
      "[Parallel(n_jobs=8)]: Using backend LokyBackend with 8 concurrent workers.\n",
      "[Parallel(n_jobs=8)]: Done  45 out of  45 | elapsed: 36.6min finished\n"
     ]
    },
    {
     "name": "stdout",
     "output_type": "stream",
     "text": [
      "*********************\n",
      "{'max_depth': 7}\n",
      "-0.9132743973572447\n",
      "Wall time: 38min 13s\n"
     ]
    }
   ],
   "source": [
    "%%time\n",
    "params_test2 = {'max_bin': range(150, 256, 10), 'min_data_in_leaf': range(1, 202, 10)}\n",
    "estimator = lgbm.LGBMRegressor(boosting_type='gbdt',\n",
    "                               objective='regression',\n",
    "                               metrics='rmse',\n",
    "                               learning_rate=0.1,\n",
    "                               n_estimators=200,\n",
    "                               feature_fraction=0.6,\n",
    "                              )\n",
    "gsearch = GridSearchCV(estimator, param_grid=param, scoring='neg_root_mean_squared_error', cv=5, n_jobs=8, verbose=1)\n",
    "gsearch.fit(X, y)\n",
    "print(\"*********************\")\n",
    "print(gsearch.best_params_)\n",
    "print(gsearch.best_score_)"
   ]
  },
  {
   "cell_type": "code",
   "execution_count": null,
   "metadata": {},
   "outputs": [],
   "source": []
  }
 ],
 "metadata": {
  "kernelspec": {
   "display_name": "Python 3",
   "language": "python",
   "name": "python3"
  },
  "language_info": {
   "codemirror_mode": {
    "name": "ipython",
    "version": 3
   },
   "file_extension": ".py",
   "mimetype": "text/x-python",
   "name": "python",
   "nbconvert_exporter": "python",
   "pygments_lexer": "ipython3",
   "version": "3.8.3"
  }
 },
 "nbformat": 4,
 "nbformat_minor": 4
}
